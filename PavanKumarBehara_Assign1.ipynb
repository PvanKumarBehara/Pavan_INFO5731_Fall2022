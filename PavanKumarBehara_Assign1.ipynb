{
  "cells": [
    {
      "cell_type": "markdown",
      "metadata": {
        "id": "view-in-github",
        "colab_type": "text"
      },
      "source": [
        "<a href=\"https://colab.research.google.com/github/PvanKumarBehara/Pavan_INFO5731_Fall2022/blob/main/PavanKumarBehara_Assign1.ipynb\" target=\"_parent\"><img src=\"https://colab.research.google.com/assets/colab-badge.svg\" alt=\"Open In Colab\"/></a>"
      ]
    },
    {
      "cell_type": "markdown",
      "metadata": {
        "id": "DymRJbxDBCnf"
      },
      "source": [
        "# **The first In-class-exercise (01/24/2023, 40 points in total)**"
      ]
    },
    {
      "cell_type": "markdown",
      "metadata": {
        "id": "03jb4GZsBkBS"
      },
      "source": [
        "(1) Write a Python program to calculate the length of a string. (4 points)"
      ]
    },
    {
      "cell_type": "code",
      "execution_count": 1,
      "metadata": {
        "colab": {
          "base_uri": "https://localhost:8080/"
        },
        "id": "YaGLbSHHB8Ej",
        "outputId": "b4ed7409-01d9-401e-adec-21f0ae336a2c"
      },
      "outputs": [
        {
          "output_type": "stream",
          "name": "stdout",
          "text": [
            "Enter the stringpavankumar\n",
            "Length of string is 10\n"
          ]
        }
      ],
      "source": [
        "# write your answer here\n",
        "string1 = input(\"Enter the string\")\n",
        "counter = 0 \n",
        "for i in string1:\n",
        "  counter = counter + 1\n",
        "print(\"Length of string is\", counter)"
      ]
    },
    {
      "cell_type": "markdown",
      "metadata": {
        "id": "jJDe71iLB616"
      },
      "source": [
        "(2) Write a Python program to count the number of characters in a string. (4 points)\n",
        "\n",
        "Sample String : 'google.com‘, \n",
        "\n",
        "Expected Result : {'o': 3, 'g': 2, '.': 1, 'e': 1, 'l': 1, 'm': 1, 'c': 1}"
      ]
    },
    {
      "cell_type": "code",
      "execution_count": 12,
      "metadata": {
        "colab": {
          "base_uri": "https://localhost:8080/"
        },
        "id": "MtKskTzbCLaU",
        "outputId": "3a3e526e-e932-48d2-9384-0468e0f227be"
      },
      "outputs": [
        {
          "output_type": "stream",
          "name": "stdout",
          "text": [
            "Character count is 10\n"
          ]
        }
      ],
      "source": [
        "# write your answer here\n",
        "string1 = 'google.com'\n",
        "def char_count(string1):\n",
        "    return len(string1)\n",
        "\n",
        "counter = char_count(string1)\n",
        "print(\"Character count is\", counter)\n"
      ]
    },
    {
      "cell_type": "markdown",
      "metadata": {
        "id": "55W9AMdXCSpV"
      },
      "source": [
        "(3) Write a Python program to sum all the items in a list. (4 points)"
      ]
    },
    {
      "cell_type": "code",
      "execution_count": 11,
      "metadata": {
        "colab": {
          "base_uri": "https://localhost:8080/"
        },
        "id": "I57NXsauCec2",
        "outputId": "d857d67a-9535-4788-e6e0-ce2daec125e5"
      },
      "outputs": [
        {
          "output_type": "stream",
          "name": "stdout",
          "text": [
            "Enter a list element separated by space 7 8 9 10\n",
            "Sum is 34\n"
          ]
        }
      ],
      "source": [
        "# write your answer here\n",
        "string1 = input(\"Enter a list element separated by space \")\n",
        "lis  = string1.split()\n",
        "sum = 0\n",
        "for num in lis:\n",
        "    sum = sum + int (num)\n",
        "print(\"Sum is\",sum)"
      ]
    },
    {
      "cell_type": "markdown",
      "metadata": {
        "id": "4ulBZ6yhCi9F"
      },
      "source": [
        "(4) Write a Python program to get a string from a given string where all occurrences of its first char have been changed to '\\$', except the first char itself. (4 points)\n",
        "\n",
        "Sample String : 'restart‘, \n",
        "\n",
        "Expected Result : 'resta\\$t'"
      ]
    },
    {
      "cell_type": "code",
      "execution_count": 10,
      "metadata": {
        "colab": {
          "base_uri": "https://localhost:8080/"
        },
        "id": "Fj0XhwbBCw2o",
        "outputId": "56d283b0-95bb-4bc3-fa2d-1fc308257104"
      },
      "outputs": [
        {
          "output_type": "stream",
          "name": "stdout",
          "text": [
            "Enter a string: restart\n",
            "Modified string: resta$t\n"
          ]
        }
      ],
      "source": [
        "# write your answer here\n",
        "def replace_char(string):\n",
        "    character_first = string[0]\n",
        "    updated_str = string.replace(character_first, '$')\n",
        "    updated_str = character_first + updated_str[1:]\n",
        "    return updated_str\n",
        "\n",
        "string1 = input(\"Enter a string: \")\n",
        "updated_str = replace_char(string1)\n",
        "print(\"Modified string:\", updated_str)\n"
      ]
    },
    {
      "cell_type": "markdown",
      "metadata": {
        "id": "_bIP7s1MCzue"
      },
      "source": [
        "(5) Write a program with python which could accept two parameter a and b to calculate and output the result of S, where \n",
        "\n",
        "$\\ S=3.14*(1+a/b)^3$ (4 points)\n",
        "\n"
      ]
    },
    {
      "cell_type": "code",
      "execution_count": 6,
      "metadata": {
        "colab": {
          "base_uri": "https://localhost:8080/"
        },
        "id": "w79QilHXD3Mg",
        "outputId": "342bf657-0f28-412a-f187-5d87b5b4208f"
      },
      "outputs": [
        {
          "output_type": "stream",
          "name": "stdout",
          "text": [
            "Enter value a5\n",
            "Enter value b9\n",
            "11.819149519890262\n"
          ]
        }
      ],
      "source": [
        "# write your answer here\n",
        "import math\n",
        "\n",
        "def caluculate_s(a, b):\n",
        "    S = 3.14 * (1 + (a / b)) ** 3\n",
        "    return S\n",
        "\n",
        "a = int(input(\"Enter value a\"))\n",
        "b = int(input(\"Enter value b\"))\n",
        "print(caluculate_s(a, b))"
      ]
    },
    {
      "cell_type": "markdown",
      "metadata": {
        "id": "xCa2bK9aD4Q3"
      },
      "source": [
        "(6) Write a Python program to concatenate following dictionaries to create a new one. (4 points)\n",
        "\n",
        "Sample Dictionary : dic1={1:10, 2:20}, dic2={3:30, 4:40}, dic3={5:50,6:60}, \n",
        "\n",
        "Expected Result : {1: 10, 2: 20, 3: 30, 4: 40, 5: 50, 6: 60}\n"
      ]
    },
    {
      "cell_type": "code",
      "execution_count": 7,
      "metadata": {
        "colab": {
          "base_uri": "https://localhost:8080/"
        },
        "id": "_z4aLqAbEET1",
        "outputId": "30848f73-7cf1-4313-a1a9-36fdfba2f457"
      },
      "outputs": [
        {
          "output_type": "stream",
          "name": "stdout",
          "text": [
            "{1: 10, 2: 20, 3: 30, 4: 40, 5: 50, 6: 60}\n"
          ]
        }
      ],
      "source": [
        "# write your answer here\n",
        "# write your answer here\n",
        "dictionary_1 = {1: 10, 2: 20}\n",
        "dictionary_2 = {3: 30, 4: 40}\n",
        "dictionary_3 = {5: 50, 6: 60}\n",
        "\n",
        "dictonary_new = {}\n",
        "for dic in (dictionary_1, dictionary_2, dictionary_3):\n",
        "    for key, value in dic.items():\n",
        "        dictonary_new[key] = value\n",
        "\n",
        "print(dictonary_new)"
      ]
    },
    {
      "cell_type": "markdown",
      "metadata": {
        "id": "0v48Vqa7FrQh"
      },
      "source": [
        "(7) Write a Python program to check whether an element exists within a tuple. (4 points)"
      ]
    },
    {
      "cell_type": "code",
      "execution_count": 8,
      "metadata": {
        "colab": {
          "base_uri": "https://localhost:8080/"
        },
        "id": "7WEmgq-DF2P1",
        "outputId": "0534c6b5-a896-4239-cea9-63eca7b6f983"
      },
      "outputs": [
        {
          "output_type": "stream",
          "name": "stdout",
          "text": [
            "element exists\n"
          ]
        }
      ],
      "source": [
        "# write your answer here\n",
        "tuple1 = (1, 2, 3, 4, 5)\n",
        "element = 3\n",
        "\n",
        "for i in tuple1:\n",
        "    if i == element:\n",
        "        print(\"element exists\")\n",
        "        break\n",
        "else:\n",
        "    print(\"element does not exists\")"
      ]
    },
    {
      "cell_type": "markdown",
      "metadata": {
        "id": "vD5PYLMuGga_"
      },
      "source": [
        "(8) Write a Python program to find maximum and the minimum value in a set. (4 points)"
      ]
    },
    {
      "cell_type": "code",
      "execution_count": 14,
      "metadata": {
        "colab": {
          "base_uri": "https://localhost:8080/"
        },
        "id": "t0D5kdJUGjjw",
        "outputId": "0875fd83-241c-4b1d-f53f-025982b3087d"
      },
      "outputs": [
        {
          "output_type": "stream",
          "name": "stdout",
          "text": [
            "Maximum is 10\n",
            "Minimum is 7\n"
          ]
        }
      ],
      "source": [
        "# write your answer here\n",
        "set1 = {7,8,9,10}\n",
        "maximum = max(set1)\n",
        "minimum = min(set1)\n",
        "print(\"Maximum is\", maximum)\n",
        "print(\"Minimum is\", minimum)"
      ]
    },
    {
      "cell_type": "markdown",
      "metadata": {
        "id": "uHkd-y5VhVWC"
      },
      "source": [
        "(9) Write a Python program to randomly divide the students in this class into six groups for term projects, each group should have at least 4 students but no more than 6 students (including 6). Here is the students list: (4 points)\n",
        "\n",
        "studnet_list = ['ja0964','sa1198','sb1357','vb0218','sc1229','kg0569','kg0470','sg1297','bg0320','fh0141','jl1252','sk1386',\n",
        "           'ak0956','sk1390','sk1458','sk1313','ak0934','vm0377','nm0618','sm1640','sm1907','gn0108','pr0353','dr0609','ms1500','aos0040','ds0814', 'av0659','nv0234','hy0232']"
      ]
    },
    {
      "cell_type": "code",
      "execution_count": 17,
      "metadata": {
        "colab": {
          "base_uri": "https://localhost:8080/"
        },
        "id": "3iGbmcOBhTwy",
        "outputId": "14f6a4fe-8c5a-4b14-bff7-e1fc215b087d"
      },
      "outputs": [
        {
          "output_type": "stream",
          "name": "stdout",
          "text": [
            "Group 1 ['ak0956', 'bg0320', 'kg0470', 'ds0814', 'hy0232', 'sm1907']\n",
            "Group 2 ['sk1390', 'nm0618', 'sk1313', 'vm0377', 'dr0609', 'kg0569']\n",
            "Group 3 ['ja0964', 'aos0040', 'nv0234', 'sc1229', 'sm1640', 'ms1500']\n",
            "Group 4 ['pr0353', 'vb0218', 'sk1386', 'av0659', 'sg1297', 'jl1252']\n",
            "Group 5 ['sa1198', 'ak0934', 'fh0141', 'sk1458', 'sb1357', 'gn0108']\n"
          ]
        }
      ],
      "source": [
        "# write your answer here\n",
        "import random\n",
        "\n",
        "def sub_groups(students, size_of_group):\n",
        "    random.shuffle(students)\n",
        "    return [students[i:i+size_of_group] for i in range(0, len(students), size_of_group)]\n",
        "\n",
        "student_list = ['ja0964','sa1198','sb1357','vb0218','sc1229','kg0569','kg0470','sg1297','bg0320','fh0141','jl1252','sk1386', 'ak0956','sk1390','sk1458','sk1313','ak0934','vm0377','nm0618','sm1640','sm1907','gn0108','pr0353','dr0609','ms1500','aos0040','ds0814', 'av0659','nv0234','hy0232']\n",
        "divide_groups = sub_groups(student_list, 6)\n",
        "for i, j in enumerate(divide_groups):\n",
        "    print(\"Group\", i + 1, j)\n"
      ]
    },
    {
      "cell_type": "markdown",
      "metadata": {
        "id": "8l_6UThy7_Cm"
      },
      "source": [
        "(10) Write a Python program to find the duplicate elements in a given array of integers. Return -1 If there are no such elements. (4 points)"
      ]
    },
    {
      "cell_type": "code",
      "execution_count": 18,
      "metadata": {
        "colab": {
          "base_uri": "https://localhost:8080/"
        },
        "id": "wIamZreX7_Cm",
        "outputId": "c2a0cefc-a10a-4353-b62d-bf97451a156d"
      },
      "outputs": [
        {
          "output_type": "stream",
          "name": "stdout",
          "text": [
            "[2, 4]\n"
          ]
        }
      ],
      "source": [
        "# write your answer here\n",
        "def find_dup(aray1):\n",
        "    emp_list = []\n",
        "    for i in range(len(aray1)):\n",
        "        for j in range(i+1, len(aray1)):\n",
        "            if aray1[i] == aray1[j]:\n",
        "                emp_list.append(aray1[i])\n",
        "    if len(emp_list) == 0:\n",
        "        return -1\n",
        "    else:\n",
        "        return emp_list\n",
        "\n",
        "aray1 = [1,2,2,3,4,4,5,6,7,8]\n",
        "print(find_dup(aray1))"
      ]
    },
    {
      "cell_type": "markdown",
      "metadata": {
        "id": "Uc5sDUcI7_Cn"
      },
      "source": [
        "(11) Write a Python program to select all the Sundays of a specified year. (4 extra points)"
      ]
    },
    {
      "cell_type": "code",
      "execution_count": 19,
      "metadata": {
        "colab": {
          "base_uri": "https://localhost:8080/"
        },
        "id": "B1-3Kc277_Cn",
        "outputId": "a55873e6-a107-4a85-d7f6-5bae2eb5649d"
      },
      "outputs": [
        {
          "output_type": "stream",
          "name": "stdout",
          "text": [
            "Enter specified year to get sundays2020\n",
            "2020-01-05\n",
            "2020-01-12\n",
            "2020-01-19\n",
            "2020-01-26\n",
            "2020-02-02\n",
            "2020-02-09\n",
            "2020-02-16\n",
            "2020-02-23\n",
            "2020-03-01\n",
            "2020-03-08\n",
            "2020-03-15\n",
            "2020-03-22\n",
            "2020-03-29\n",
            "2020-04-05\n",
            "2020-04-12\n",
            "2020-04-19\n",
            "2020-04-26\n",
            "2020-05-03\n",
            "2020-05-10\n",
            "2020-05-17\n",
            "2020-05-24\n",
            "2020-05-31\n",
            "2020-06-07\n",
            "2020-06-14\n",
            "2020-06-21\n",
            "2020-06-28\n",
            "2020-07-05\n",
            "2020-07-12\n",
            "2020-07-19\n",
            "2020-07-26\n",
            "2020-08-02\n",
            "2020-08-09\n",
            "2020-08-16\n",
            "2020-08-23\n",
            "2020-08-30\n",
            "2020-09-06\n",
            "2020-09-13\n",
            "2020-09-20\n",
            "2020-09-27\n",
            "2020-10-04\n",
            "2020-10-11\n",
            "2020-10-18\n",
            "2020-10-25\n",
            "2020-11-01\n",
            "2020-11-08\n",
            "2020-11-15\n",
            "2020-11-22\n",
            "2020-11-29\n",
            "2020-12-06\n",
            "2020-12-13\n",
            "2020-12-20\n",
            "2020-12-27\n"
          ]
        }
      ],
      "source": [
        "# write your answer here\n",
        "from datetime import datetime, timedelta\n",
        "\n",
        "def find_sundays(year):\n",
        "    empty_list = []\n",
        "    date = datetime(year, 1, 1)\n",
        "    if date.weekday() != 6:\n",
        "        date = date + timedelta(days=(6-date.weekday()))\n",
        "    while date.year == year:\n",
        "        empty_list.append(date)\n",
        "        date = date + timedelta(days=7)\n",
        "    return empty_list\n",
        "\n",
        "year = int(input(\"Enter specified year to get sundays\"))\n",
        "empty_list = find_sundays(year)\n",
        "for sunday in empty_list:\n",
        "    print(sunday.strftime(\"%Y-%m-%d\"))"
      ]
    }
  ],
  "metadata": {
    "colab": {
      "provenance": [],
      "include_colab_link": true
    },
    "kernelspec": {
      "display_name": "Python 3 (ipykernel)",
      "language": "python",
      "name": "python3"
    },
    "language_info": {
      "codemirror_mode": {
        "name": "ipython",
        "version": 3
      },
      "file_extension": ".py",
      "mimetype": "text/x-python",
      "name": "python",
      "nbconvert_exporter": "python",
      "pygments_lexer": "ipython3",
      "version": "3.9.12"
    }
  },
  "nbformat": 4,
  "nbformat_minor": 0
}