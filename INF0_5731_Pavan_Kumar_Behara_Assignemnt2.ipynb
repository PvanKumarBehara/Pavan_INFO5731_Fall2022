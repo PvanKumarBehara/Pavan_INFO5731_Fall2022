{
  "cells": [
    {
      "cell_type": "markdown",
      "metadata": {
        "id": "view-in-github",
        "colab_type": "text"
      },
      "source": [
        "<a href=\"https://colab.research.google.com/github/PvanKumarBehara/Pavan_INFO5731_Fall2022/blob/main/INF0_5731_Pavan_Kumar_Behara_Assignemnt2.ipynb\" target=\"_parent\"><img src=\"https://colab.research.google.com/assets/colab-badge.svg\" alt=\"Open In Colab\"/></a>"
      ]
    },
    {
      "cell_type": "markdown",
      "metadata": {
        "id": "m2djaWt6oOWt"
      },
      "source": [
        "## The second In-class-exercise (02/07/2023, 40 points in total)"
      ]
    },
    {
      "cell_type": "markdown",
      "metadata": {
        "id": "y-i7auCPoOWw"
      },
      "source": [
        "The purpose of this exercise is to understand users' information needs, then collect data from different sources for analysis."
      ]
    },
    {
      "cell_type": "markdown",
      "metadata": {
        "id": "hjH_vcM5oOWw"
      },
      "source": [
        "Question 1 (10 points): Describe an interesting research question (or practical question) you have in mind, what kind of data should be collected to answer the question(s)? How many data needed for the analysis? The detail steps for collecting and save the data. "
      ]
    },
    {
      "cell_type": "code",
      "execution_count": null,
      "metadata": {
        "id": "r7klknAioOWx"
      },
      "outputs": [],
      "source": [
        "# Your answer here (no code for this question, write down your answer as detail as possible for the above questions):\n",
        "\n",
        "\n",
        "Please write you answer here:\n",
        "\n",
        "What elements contribute to a teams success in international cricket matches? could be an intriguing study issue in the sport of cricket. \n",
        "Data from cricket games played by various teams could be gathered to help address this question.\n",
        "The following information might be gathered such as Teams playing the match, Venue ,Date ,Player of the match, Number of centuries scored, Number of half-centuries scored\n",
        " The steps to be followed for anaylis are - \n",
        "    1) Install the essential Python libraries, including Pandas, BeautifulSoup, Requests, and Numpy.\n",
        "    2) Send a GET request to the cricket website, which is where the data collection will take place.\n",
        "    3) Use BeautifulSoup to parse the websites HTML and retrieve the necessary data for each match.\n",
        "    4) Put the data you have gathered in a Pandas dataframe.\n",
        "    5) The data should be cleaned and pre-processed to make sure it is in the right format.\n",
        "    6) In a CSV or Excel file, store the preprocessed data and use it for further analytical purposes."
      ]
    },
    {
      "cell_type": "markdown",
      "metadata": {
        "id": "NBNRGHUOoOWy"
      },
      "source": [
        "Question 2 (10 points): Write python code to collect 1000 data samples you discussed above."
      ]
    },
    {
      "cell_type": "code",
      "execution_count": null,
      "metadata": {
        "id": "unpykfp_oOWy"
      },
      "outputs": [],
      "source": [
        "# You code here (Please add comments in the code):\n",
        "import requests\n",
        "import pandas as pd\n",
        "from bs4 import BeautifulSoup\n",
        "\n",
        "url = \"https://www.espncricinfo.com/series/international-cricket-match-responseults-2022-2023-1234567\"\n",
        "response = requests.get(url)\n",
        "\n",
        "soup = BeautifulSoup(response.content, \"html.parser\")\n",
        "\n",
        "cricket_matches = soup.find_all(\"div\", {\"class\": \"wrap\"})\n",
        "\n",
        "list1 = []\n",
        "for match in cricket_matches:\n",
        "    no_of_teams = match.find(\"div\", {\"class\": \"team-1-name\"}).text.strip() + \" vs \" + match.find(\"div\", {\"class\": \"team-2-name\"}).text.strip()\n",
        "    place = match.find(\"div\", {\"class\": \"extra-info\"}).text.strip()\n",
        "    date = match.find(\"div\", {\"class\": \"date\"}).text.strip()\n",
        "    responseult = match.find(\"div\", {\"class\": \"responseult\"}).text.strip()\n",
        "    player_score = match.find(\"div\", {\"class\": \"score\"}).text.strip()\n",
        "    player_of_match = match.find(\"div\", {\"class\": \"player-of-match\"}).text.strip()\n",
        "    player_centuries = int(match.find(\"div\", {\"class\": \"centuries\"}).text.strip().split(\" \")[0])\n",
        "    player_half_centuries = int(match.find(\"div\", {\"class\": \"half-centuries\"}).text.strip().split(\" \")[0])\n",
        "    \n",
        "    list1.append([no_of_teams, place, date, responseult, player_score, player_of_match, player_centuries, player_half_centuries])\n",
        "\n",
        "dataframe = pd.DataFrame(list1, columns=[\"no_of_teams\", \"place\", \"Date\", \"responseult\", \"Score\", \"Player of Match\", \"Centuries\", \"Half-Centuries\"])\n",
        "\n",
        "# save the data to a CSV file\n",
        "dataframe.to_csv(\"player_cricket_data.csv\", index=False)"
      ]
    },
    {
      "cell_type": "markdown",
      "metadata": {
        "id": "nulhJ20ioOWz"
      },
      "source": [
        "Question 3 (10 points): Write python code to collect 1000 articles from Google Scholar (https://scholar.google.com/), Microsoft Academic (https://academic.microsoft.com/home), or CiteSeerX (https://citeseerx.ist.psu.edu/index), or Semantic Scholar (https://www.semanticscholar.org/), or ACM Digital Libraries (https://dl.acm.org/) with the keyword \"information retrieval\". The articles should be published in the last 10 years (2012-2022).\n",
        "\n",
        "The following information of the article needs to be collected:\n",
        "\n",
        "(1) Title\n",
        "\n",
        "(2) Venue/journal/conference being published\n",
        "\n",
        "(3) Year\n",
        "\n",
        "(4) Authors\n",
        "\n",
        "(5) Abstract"
      ]
    },
    {
      "cell_type": "code",
      "execution_count": null,
      "metadata": {
        "id": "hNK-acccoOW0"
      },
      "outputs": [],
      "source": [
        "# You code here (Please add comments in the code):\n",
        "\n",
        "\n"
      ]
    },
    {
      "cell_type": "markdown",
      "metadata": {
        "id": "bXLZtrtPoOW0"
      },
      "source": [
        "Question 4 (10 points): Write python code to collect 1000 posts from Twitter, or Facebook, or Instagram. You can either use hashtags, keywords, user_name, user_id, or other information to collect the data. \n",
        "\n",
        "The following information needs to be collected:\n",
        "\n",
        "(1) User_name\n",
        "\n",
        "(2) Posted time\n",
        "\n",
        "(3) Text "
      ]
    },
    {
      "cell_type": "code",
      "execution_count": null,
      "metadata": {
        "id": "QM3RhjIZoOW1"
      },
      "outputs": [],
      "source": [
        "# You code here (Please add comments in the code):\n",
        "import tweepy           #Module used to connect twitter from python\n",
        "import pandas as pd\n",
        "import time\n",
        "\n",
        "consumer_key = 'QJ1b2AMTf7hBJaiwlVci1I2QP'\n",
        "consumer_secret = 'OvwBO7HrXCSIsTDQ4vhDHMt4sLH6uhzACdofakjoSao0ykoiTu'\n",
        "access_token = '1622258397520199680-4QuGBLqEPaqqlYhHpd4zELfUuhvDcM'\n",
        "access_token_secret = 'alvgIJKdPNygjOqGyAoz9VMQQ1Td7RDnrmzKMmLe5xl8b'\n",
        "\n",
        "\n",
        "\n",
        "auth = tweepy.OAuthHandler(consumer_key, consumer_secret)\n",
        "auth.set_access_token(access_token, access_token_secret) \n",
        "api = tweepy.API(auth,wait_on_rate_limit=True) \n",
        "\n",
        "cur = tweepy.Cursor(api.search, q=\"Kohli\", tweet_mode = 'extended').items(1000)\n",
        "\n",
        "tweets = [[i. created_at, i.user.screen_name, i.full_text] for i in cur]\n",
        "\n",
        "dataframe = pd.DataFrame(data=tweets,columns=['Time','Username','Tweet'])\n",
        "dataframe"
      ]
    }
  ],
  "metadata": {
    "kernelspec": {
      "display_name": "Python 3 (ipykernel)",
      "language": "python",
      "name": "python3"
    },
    "language_info": {
      "codemirror_mode": {
        "name": "ipython",
        "version": 3
      },
      "file_extension": ".py",
      "mimetype": "text/x-python",
      "name": "python",
      "nbconvert_exporter": "python",
      "pygments_lexer": "ipython3",
      "version": "3.9.12"
    },
    "colab": {
      "provenance": [],
      "include_colab_link": true
    }
  },
  "nbformat": 4,
  "nbformat_minor": 0
}