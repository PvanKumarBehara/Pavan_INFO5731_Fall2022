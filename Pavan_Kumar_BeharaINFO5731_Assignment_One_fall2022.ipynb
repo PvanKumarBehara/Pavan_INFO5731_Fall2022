{
  "cells": [
    {
      "cell_type": "markdown",
      "metadata": {
        "id": "view-in-github",
        "colab_type": "text"
      },
      "source": [
        "<a href=\"https://colab.research.google.com/github/PvanKumarBehara/Pavan_INFO5731_Fall2022/blob/main/Pavan_Kumar_BeharaINFO5731_Assignment_One_fall2022.ipynb\" target=\"_parent\"><img src=\"https://colab.research.google.com/assets/colab-badge.svg\" alt=\"Open In Colab\"/></a>"
      ]
    },
    {
      "cell_type": "markdown",
      "metadata": {
        "id": "Ryk8D1Q4Wsrp"
      },
      "source": [
        "# **INFO5731 Assignment One**"
      ]
    },
    {
      "cell_type": "markdown",
      "metadata": {
        "id": "90_NR8c5XGWc"
      },
      "source": [
        "# Question 1\n",
        "\n",
        "(20 points). Write a Python program to generate 12 random numbers between 1 and 100. Sort the list of numbers in ascending order and print it out. Sort the list of numbers in descending order and print it out. Calculate the average for the group and print it out."
      ]
    },
    {
      "cell_type": "code",
      "execution_count": 3,
      "metadata": {
        "colab": {
          "base_uri": "https://localhost:8080/"
        },
        "id": "5QX6bJjGWXY9",
        "outputId": "55aab8cf-233e-4d95-9087-43b3e0199c4d"
      },
      "outputs": [
        {
          "output_type": "stream",
          "name": "stdout",
          "text": [
            "asceding order of numbers is [3, 25, 38, 46, 49, 53, 56, 70, 79, 86, 89, 94]\n",
            "descending order of numbers is [94, 89, 86, 79, 70, 56, 53, 49, 46, 38, 25, 3]\n",
            "average of numbers is 57.333333333333336\n"
          ]
        }
      ],
      "source": [
        "# Your code here\n",
        "import random\n",
        "\n",
        "rand_1 = [random.randint(1, 100) for i in range(12)]\n",
        "rand_1.sort()\n",
        "print(\"asceding order of numbers is\", rand_1)\n",
        "rand_1.sort(reverse=True)\n",
        "print(\"descending order of numbers is\", rand_1)\n",
        "avg_1 = sum(rand_1) / len(rand_1)\n",
        "print(\"average of numbers is\", avg_1)\n"
      ]
    },
    {
      "cell_type": "markdown",
      "metadata": {
        "id": "1F_PZdH9Sh49"
      },
      "source": [
        "# Question 2\n",
        "(25 points). Write a program that will do the following string formatting tasks:\n",
        "\n",
        "(1) Ask the user to enter two sentences.\n",
        "\n",
        "(2) Make each sentence into a list. Each element in the list should correspond to a word in the sentence. For example, if the sentence is \"Alas! Am I alive? This is my first python program\", the program should print out ['Alas, '!', 'Am', 'I', 'alive, '?', 'This', 'is', 'my', 'first', 'python', 'program'].\n",
        "\n",
        "(3) Compare the two sentences. Print out a list of words that occur in both sentences.\n",
        "\n",
        "(4) Remove any punctuation from the sentence and print it back out. It should remove at least the following characters, but it can remove more: period(“.”), comma (“,”), semicolon (“;”), and colon (“:”)\n",
        "\n",
        "(5) Count the number of vowels in the sentences. Print out each vowel and the number of times it appears in the sentences, such as: a:2, e:1, i:0, etc"
      ]
    },
    {
      "cell_type": "code",
      "execution_count": null,
      "metadata": {
        "id": "Y0oOSlsOS0cq"
      },
      "outputs": [],
      "source": [
        "# Your code here\n",
        "import string\n",
        "\n",
        "#1  \n",
        "sen_1 = input(\"Enter the first sentence\")\n",
        "sen_2 = input(\"Enter the second sentence\")\n",
        "\n",
        "#2\n",
        "lis_a = sen_1.split()\n",
        "lis_b = sen_2.split()\n",
        "print(\"the first sentence as list is\",lis_a)\n",
        "print(\"the second sentance as list is\",lis_b)\n",
        "\n",
        "#3 \n",
        "set_1 = set(lis_a)\n",
        "set_2 = set(lis_b)\n",
        "common = set_1.intersection(set_2)\n",
        "print(\"Common Words :\",common)\n",
        "\n",
        "#4\n",
        "punctuation = \".,;:\"\n",
        "sen1_without_punctuation = \"\".join([char for char in sen_1 if char not in punctuation])\n",
        "sen2_without_punctuation = \"\".join([char for char in sen_2 if char not in punctuation])\n",
        "print(\"Sentence without punctuation is\", sen1_without_punctuation)\n",
        "print(\"Second Sentance without punctuation is:\", sen2_without_punctuation)\n",
        "\n",
        "#5 \n",
        "vowel = \"aeiouAEIOU\"\n",
        "sen1_vowels = sum(char in vowel for char in sen1_without_punctuation)\n",
        "sen2_vowels = sum(char in vowel for char in sen2_without_punctuation)\n",
        "print(\"Vowels in first sentance count:\", sen1_vowels)\n",
        "print(\"Vowels in second sentance count:\", sen2_vowels)\n"
      ]
    },
    {
      "cell_type": "markdown",
      "metadata": {
        "id": "CmFoI4jDS9nx"
      },
      "source": [
        "# Question 3 \n",
        "\n",
        "(15 points). The formula that describes the volume V of a sphere with radius r is the following:\n",
        "\n",
        "$ V=\\frac{4}{3}\\ast\\ \\pi\\ast\\ r^3 $\n",
        "\n",
        "Write a program to calculate the value of V when r is in the range of 1–10. Output the result in the following format:\n",
        "\n",
        "\tr\tV\n",
        "\t1\t…\n",
        "\t2\t…\n",
        "\t3\t…\n"
      ]
    },
    {
      "cell_type": "code",
      "execution_count": 7,
      "metadata": {
        "colab": {
          "base_uri": "https://localhost:8080/"
        },
        "id": "pEyqeioAT95b",
        "outputId": "c9cd270b-3f22-4c42-feb0-039ac8a44816"
      },
      "outputs": [
        {
          "output_type": "stream",
          "name": "stdout",
          "text": [
            "Sphere Volume when radius is - 1 Then Volume is 4.19\n",
            "Sphere Volume when radius is - 2 Then Volume is 33.51\n",
            "Sphere Volume when radius is - 3 Then Volume is 113.10\n",
            "Sphere Volume when radius is - 4 Then Volume is 268.08\n",
            "Sphere Volume when radius is - 5 Then Volume is 523.60\n",
            "Sphere Volume when radius is - 6 Then Volume is 904.78\n",
            "Sphere Volume when radius is - 7 Then Volume is 1436.76\n",
            "Sphere Volume when radius is - 8 Then Volume is 2144.66\n",
            "Sphere Volume when radius is - 9 Then Volume is 3053.63\n",
            "Sphere Volume when radius is - 10 Then Volume is 4188.79\n"
          ]
        }
      ],
      "source": [
        "# Your code here\n",
        "\n",
        "import math\n",
        "\n",
        "def volume(rad):\n",
        "    vol = 4/3 * math.pi * rad**3\n",
        "    return vol\n",
        "\n",
        "def main():\n",
        "    for i in range(1, 11):\n",
        "        vol = volume(i)\n",
        "        print(f\"Sphere Volume when radius is - {i} Then Volume is {vol:.2f}\")\n",
        "\n",
        "if __name__ == '__main__':\n",
        "    main()"
      ]
    },
    {
      "cell_type": "markdown",
      "metadata": {
        "id": "z3tBE7E-Xn5X"
      },
      "source": [
        "# Question 4\n",
        "\n",
        "(40 points). In the field of Data Science, data is often formatted as a comma-delimited (CSV) file, where each line in a file corresponds to a field's value. Refer to Chapter 9 (p. 106) for more information on comma-delimited files. To answer this question, you will need to download the file [Assignment1_denton_housing.csv](https://raw.githubusercontent.com/unt-iialab/info5731-spring2022/main/assignments/Assignment1_denton_housing.csv) included with this assignment. The file [Assignment1_denton_housing.csv](https://raw.githubusercontent.com/unt-iialab/info5731-spring2022/main/assignments/Assignment1_denton_housing.csv) contains statistics about housing in the city of Denton from 2008 to 2014. Write a program to implement the following questions.\n",
        "\n",
        "(1) (10 pts) Calculate the difference in the number of Occupied Housing Units from year to year and print it. The difference must be calculated for the consecutive years such as 2008-2009, 2009-2010 etc. Finally, print the values in the ascending order.\n",
        "\n",
        "(2) (10 pts) For all the years, calculate the percentage of housing units which are vacant an occupied. Print the results in the following format:\n",
        "\n",
        "Year Vacant Housing Units Occupied Housing Units\n",
        "\n",
        "    2008  30%   70%                          \n",
        "\t2009 ----- -----\n",
        "\t2010 ----- -----\n",
        "    2011 ----- -----\n",
        "\t2012 ----- -----\n",
        "    2013 ----- -----\n",
        "\t2014 ----- -----\n",
        "  \n",
        "  \n",
        "\n",
        "(3) (10 pts) Calculate and print the valued and years in which the highest number of housing units were vacant and occupied. Print the results in the following format:  \n",
        "\n",
        "                              Year\tValue\n",
        "\tVacant Housing Units\t  -----   -----\n",
        "\tOccupied Housing Units\t-----   -----\n",
        "\n",
        "(4) (10 pts) Calculate the harmonic mean of the total housing units and print it out. You can find the information about harmonic mean here: https://ncalculators.com/statistics/harmonic-mean-calculator.htm"
      ]
    },
    {
      "cell_type": "code",
      "execution_count": null,
      "metadata": {
        "id": "lqGYuHBhcsRH"
      },
      "outputs": [],
      "source": [
        "# Your code here\n",
        "\n",
        "\n"
      ]
    }
  ],
  "metadata": {
    "colab": {
      "provenance": [],
      "include_colab_link": true
    },
    "kernelspec": {
      "display_name": "Python 3 (ipykernel)",
      "language": "python",
      "name": "python3"
    },
    "language_info": {
      "codemirror_mode": {
        "name": "ipython",
        "version": 3
      },
      "file_extension": ".py",
      "mimetype": "text/x-python",
      "name": "python",
      "nbconvert_exporter": "python",
      "pygments_lexer": "ipython3",
      "version": "3.9.12"
    }
  },
  "nbformat": 4,
  "nbformat_minor": 0
}